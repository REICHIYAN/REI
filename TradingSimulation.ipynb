{
  "nbformat": 4,
  "nbformat_minor": 0,
  "metadata": {
    "colab": {
      "name": "TradingSimulation.ipynb",
      "provenance": [],
      "authorship_tag": "ABX9TyMwf+XaAC5FKTyd1TTtgBra",
      "include_colab_link": true
    },
    "kernelspec": {
      "name": "python3",
      "display_name": "Python 3"
    }
  },
  "cells": [
    {
      "cell_type": "markdown",
      "metadata": {
        "id": "view-in-github",
        "colab_type": "text"
      },
      "source": [
        "<a href=\"https://colab.research.google.com/github/REICHIYAN/REI/blob/master/TradingSimulation.ipynb\" target=\"_parent\"><img src=\"https://colab.research.google.com/assets/colab-badge.svg\" alt=\"Open In Colab\"/></a>"
      ]
    },
    {
      "cell_type": "code",
      "metadata": {
        "id": "CG9JeCQv1ci9",
        "colab_type": "code",
        "colab": {}
      },
      "source": [
        "from chapter7.LiquidityProvider import LiquidityProvider\n",
        "from chapter7.TradingStrategy import TradingStrategy\n",
        "from chapter7.MarketSimulator import MarketSimulator\n",
        "from chapter7.OrderManager import OrderManager\n",
        "from chapter7.OrderBook import OrderBook\n",
        "from collections import deque\n",
        "\n",
        "def main():\n",
        "    lp_2_gateway = deque()\n",
        "    ob_2_ts = deque()\n",
        "    ts_2_om = deque()\n",
        "    ms_2_om = deque()\n",
        "    om_2_ts = deque()\n",
        "    gw_2_om = deque()\n",
        "    om_2_gw = deque()\n",
        "\n",
        "    lp = LiquidityProvider(lp_2_gateway)\n",
        "    ob = OrderBook(lp_2_gateway, ob_2_ts)\n",
        "    ts = TradingStrategy(ob_2_ts, ts_2_om, om_2_ts)\n",
        "    ms = MarketSimulator(om_2_gw, gw_2_om)\n",
        "    om = OrderManager(ts_2_om, om_2_ts, om_2_gw, gw_2_om)\n",
        "\n",
        "    lp.read_tick_data_from_data_source()\n",
        "    while len(lp_2_gateway)>0:\n",
        "        ob.handle_order_from_gateway()\n",
        "        ts.handle_input_from_bb()\n",
        "        om.handle_input_from_ts()\n",
        "        ms.handle_order_from_gw()\n",
        "        om.handle_input_from_market()\n",
        "        ts.handle_response_from_om()\n",
        "        lp.read_tick_data_from_data_source()\n",
        "\n",
        "\n",
        "\n",
        "\n",
        "if __name__ == '__main__':\n",
        "    main()"
      ],
      "execution_count": null,
      "outputs": []
    }
  ]
}