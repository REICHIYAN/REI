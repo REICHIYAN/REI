{
  "nbformat": 4,
  "nbformat_minor": 0,
  "metadata": {
    "colab": {
      "name": "LiquidityProvider.ipynb",
      "provenance": [],
      "authorship_tag": "ABX9TyMmqoZrbCZwJrCmD0Uw1qFF",
      "include_colab_link": true
    },
    "kernelspec": {
      "name": "python3",
      "display_name": "Python 3"
    }
  },
  "cells": [
    {
      "cell_type": "markdown",
      "metadata": {
        "id": "view-in-github",
        "colab_type": "text"
      },
      "source": [
        "<a href=\"https://colab.research.google.com/github/REICHIYAN/REI/blob/master/LiquidityProvider.ipynb\" target=\"_parent\"><img src=\"https://colab.research.google.com/assets/colab-badge.svg\" alt=\"Open In Colab\"/></a>"
      ]
    },
    {
      "cell_type": "code",
      "metadata": {
        "id": "zVyqjLpR0cH4",
        "colab_type": "code",
        "colab": {}
      },
      "source": [
        "from random import randrange\n",
        "from random import sample,seed\n",
        "\n",
        "class LiquidityProvider:\n",
        "    def __init__(self, lp_2_gateway=None):\n",
        "        self.orders = []\n",
        "        self.order_id = 0\n",
        "        seed(0)\n",
        "        self.lp_2_gateway = lp_2_gateway\n",
        "\n",
        "    def lookup_orders(self,id):\n",
        "        count=0\n",
        "        for o in self.orders:\n",
        "            if o['id'] ==  id:\n",
        "                return o, count\n",
        "            count+=1\n",
        "        return None, None\n",
        "\n",
        "    def insert_manual_order(self,order):\n",
        "        if self.lp_2_gateway is None:\n",
        "            print('simulation mode')\n",
        "            return order\n",
        "        self.lp_2_gateway.append(order.copy())\n",
        "\n",
        "\n",
        "    def read_tick_data_from_data_source(self):\n",
        "        pass\n",
        "\n",
        "\n",
        "    def generate_random_order(self):\n",
        "        price=randrange(8,12)\n",
        "        quantity=randrange(1,10)*100\n",
        "        side=sample(['buy','sell'],1)[0]\n",
        "        order_id=randrange(0,self.order_id+1)\n",
        "        o=self.lookup_orders(order_id)\n",
        "\n",
        "        new_order=False\n",
        "        if o is None:\n",
        "            action='new'\n",
        "            new_order=True\n",
        "        else:\n",
        "            action=sample(['modify','delete'],1)[0]\n",
        "\n",
        "        ord = {\n",
        "            'id': self.order_id,\n",
        "            'price': price,\n",
        "            'quantity': quantity,\n",
        "            'side': side,\n",
        "            'action': action\n",
        "        }\n",
        "\n",
        "        if not new_order:\n",
        "            self.order_id+=1\n",
        "            self.orders.append(ord)\n",
        "\n",
        "        if not self.lp_2_gateway:\n",
        "            print('simulation mode')\n",
        "            return ord\n",
        "        self.lp_2_gateway.append(ord.copy())"
      ],
      "execution_count": null,
      "outputs": []
    }
  ]
}