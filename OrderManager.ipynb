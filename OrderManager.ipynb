{
  "nbformat": 4,
  "nbformat_minor": 0,
  "metadata": {
    "colab": {
      "name": "OrderManager.ipynb",
      "provenance": [],
      "authorship_tag": "ABX9TyPlOu157kpkwI/udX9r5ftJ",
      "include_colab_link": true
    },
    "kernelspec": {
      "name": "python3",
      "display_name": "Python 3"
    }
  },
  "cells": [
    {
      "cell_type": "markdown",
      "metadata": {
        "id": "view-in-github",
        "colab_type": "text"
      },
      "source": [
        "<a href=\"https://colab.research.google.com/github/REICHIYAN/REI/blob/master/OrderManager.ipynb\" target=\"_parent\"><img src=\"https://colab.research.google.com/assets/colab-badge.svg\" alt=\"Open In Colab\"/></a>"
      ]
    },
    {
      "cell_type": "code",
      "metadata": {
        "id": "jdQRoKKY1Hhg",
        "colab_type": "code",
        "colab": {}
      },
      "source": [
        "class OrderManager:\n",
        "    def __init__(self,ts_2_om = None, om_2_ts = None,\n",
        "                 om_2_gw=None,gw_2_om=None):\n",
        "        self.orders=[]\n",
        "        self.order_id=0\n",
        "        self.ts_2_om = ts_2_om\n",
        "        self.om_2_gw = om_2_gw\n",
        "        self.gw_2_om = gw_2_om\n",
        "        self.om_2_ts = om_2_ts\n",
        "\n",
        "    def check_order_valid(self,order):\n",
        "        if order['quantity'] < 0:\n",
        "            return False\n",
        "        if order['price'] < 0:\n",
        "            return False\n",
        "        return True\n",
        "\n",
        "    def create_new_order(self,order):\n",
        "        self.order_id += 1\n",
        "        neworder = {\n",
        "            'id': self.order_id,\n",
        "            'price': order['price'],\n",
        "            'quantity': order['quantity'],\n",
        "            'side': order['side'],\n",
        "            'status': 'new',\n",
        "            'action': 'New'\n",
        "        }\n",
        "        return neworder\n",
        "\n",
        "    def handle_input_from_ts(self):\n",
        "        if self.ts_2_om is not None:\n",
        "            if len(self.ts_2_om)>0:\n",
        "                self.handle_order_from_trading_strategy(self.ts_2_om.popleft())\n",
        "        else:\n",
        "            print('simulation mode')\n",
        "\n",
        "    def handle_order_from_trading_strategy(self,order):\n",
        "        if self.check_order_valid(order):\n",
        "            order=self.create_new_order(order).copy()\n",
        "            self.orders.append(order)\n",
        "            if self.om_2_gw is None:\n",
        "                print('simulation mode')\n",
        "            else:\n",
        "                self.om_2_gw.append(order.copy())\n",
        "\n",
        "    def lookup_order_by_id(self,id):\n",
        "        for i in range(len(self.orders)):\n",
        "            if self.orders[i]['id']==id:\n",
        "                return self.orders[i]\n",
        "        return None\n",
        "\n",
        "    def clean_traded_orders(self):\n",
        "        order_offsets=[]\n",
        "        for k in range(len(self.orders)):\n",
        "            if self.orders[k]['status'] == 'filled':\n",
        "                order_offsets.append(k)\n",
        "        if len(order_offsets):\n",
        "            for k in sorted(order_offsets,reverse=True):\n",
        "                del (self.orders[k])\n",
        "\n",
        "    def handle_input_from_market(self):\n",
        "        if self.gw_2_om is not None:\n",
        "            if len(self.gw_2_om)>0:\n",
        "                self.handle_order_from_gateway(self.gw_2_om.popleft())\n",
        "        else:\n",
        "            print('simulation mode')\n",
        "\n",
        "    def handle_order_from_gateway(self,order_update):\n",
        "        order=self.lookup_order_by_id(order_update['id'])\n",
        "        if order is not None:\n",
        "            order['status']=order_update['status']\n",
        "            if self.om_2_ts is not None:\n",
        "                self.om_2_ts.append(order.copy())\n",
        "            else:\n",
        "                print('simulation mode')\n",
        "            self.clean_traded_orders()\n",
        "        else:\n",
        "            print('order not found')"
      ],
      "execution_count": null,
      "outputs": []
    }
  ]
}