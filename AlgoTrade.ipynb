{
  "nbformat": 4,
  "nbformat_minor": 0,
  "metadata": {
    "colab": {
      "name": "AlgoTrade.ipynb",
      "provenance": [],
      "collapsed_sections": [],
      "authorship_tag": "ABX9TyM3eWaZ3n+F9mLl0adTmitf",
      "include_colab_link": true
    },
    "kernelspec": {
      "name": "python3",
      "display_name": "Python 3"
    },
    "accelerator": "GPU"
  },
  "cells": [
    {
      "cell_type": "markdown",
      "metadata": {
        "id": "view-in-github",
        "colab_type": "text"
      },
      "source": [
        "<a href=\"https://colab.research.google.com/github/REICHIYAN/REI/blob/master/AlgoTrade.ipynb\" target=\"_parent\"><img src=\"https://colab.research.google.com/assets/colab-badge.svg\" alt=\"Open In Colab\"/></a>"
      ]
    },
    {
      "cell_type": "code",
      "metadata": {
        "id": "wAz847mtmg-R",
        "colab_type": "code",
        "colab": {}
      },
      "source": [
        "#!pip install git+https://github.com/pydata/pandas-datareader.git"
      ],
      "execution_count": 0,
      "outputs": []
    },
    {
      "cell_type": "code",
      "metadata": {
        "id": "ig9jcTg-syoD",
        "colab_type": "code",
        "colab": {}
      },
      "source": [
        "from pandas_datareader import data\n",
        "\n",
        "start_date = '2014-01-01'\n",
        "end_date = '2018-01-01'\n",
        "\n",
        "goog_data = data.DataReader('GOOG', 'yahoo', start_date, )"
      ],
      "execution_count": 0,
      "outputs": []
    },
    {
      "cell_type": "code",
      "metadata": {
        "id": "GiaSz7OLs7F3",
        "colab_type": "code",
        "colab": {
          "base_uri": "https://localhost:8080/",
          "height": 283
        },
        "outputId": "4c39a5e3-b264-4771-8bbe-076fba1feb2a"
      },
      "source": [
        "print(goog_data)"
      ],
      "execution_count": 41,
      "outputs": [
        {
          "output_type": "stream",
          "text": [
            "                   High          Low  ...     Volume    Adj Close\n",
            "Date                                  ...                        \n",
            "2014-01-02   556.788025   552.060730  ...  3656400.0   554.481689\n",
            "2014-01-03   556.379578   550.401978  ...  3345800.0   550.436829\n",
            "2014-01-06   557.340942   551.154114  ...  3551800.0   556.573853\n",
            "2014-01-07   567.717041   558.486633  ...  5124300.0   567.303589\n",
            "2014-01-08   571.517822   564.528992  ...  4501700.0   568.484192\n",
            "...                 ...          ...  ...        ...          ...\n",
            "2020-05-15  1374.479980  1339.000000  ...  1707700.0  1373.189941\n",
            "2020-05-18  1392.324951  1354.250000  ...  1824000.0  1383.939941\n",
            "2020-05-19  1392.000000  1373.484985  ...  1280600.0  1373.484985\n",
            "2020-05-20  1410.420044  1387.250000  ...  1654200.0  1406.719971\n",
            "2020-05-21  1415.489990  1397.760010  ...   332513.0  1400.729980\n",
            "\n",
            "[1608 rows x 6 columns]\n"
          ],
          "name": "stdout"
        }
      ]
    }
  ]
}