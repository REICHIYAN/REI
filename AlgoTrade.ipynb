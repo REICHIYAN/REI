{
  "nbformat": 4,
  "nbformat_minor": 0,
  "metadata": {
    "colab": {
      "name": "AlgoTrade.ipynb",
      "provenance": [],
      "collapsed_sections": [],
      "authorship_tag": "ABX9TyPvqlEqrjO3lbt3Hbgrej+F",
      "include_colab_link": true
    },
    "kernelspec": {
      "name": "python3",
      "display_name": "Python 3"
    },
    "accelerator": "GPU"
  },
  "cells": [
    {
      "cell_type": "markdown",
      "metadata": {
        "id": "view-in-github",
        "colab_type": "text"
      },
      "source": [
        "<a href=\"https://colab.research.google.com/github/REICHIYAN/REI/blob/master/AlgoTrade.ipynb\" target=\"_parent\"><img src=\"https://colab.research.google.com/assets/colab-badge.svg\" alt=\"Open In Colab\"/></a>"
      ]
    },
    {
      "cell_type": "code",
      "metadata": {
        "id": "wAz847mtmg-R",
        "colab_type": "code",
        "colab": {}
      },
      "source": [
        "#!pip install git+https://github.com/pydata/pandas-datareader.git"
      ],
      "execution_count": 0,
      "outputs": []
    },
    {
      "cell_type": "code",
      "metadata": {
        "id": "ig9jcTg-syoD",
        "colab_type": "code",
        "colab": {}
      },
      "source": [
        "from pandas_datareader import data\n",
        "\n",
        "start_date = '2010-01-01'\n",
        "end_date = '2018-01-01'\n",
        "\n",
        "goog_data = data.DataReader('GOOG', 'yahoo', start_date, )"
      ],
      "execution_count": 0,
      "outputs": []
    },
    {
      "cell_type": "code",
      "metadata": {
        "id": "GiaSz7OLs7F3",
        "colab_type": "code",
        "outputId": "2bd91637-a1b6-4616-8a7c-ef55610b9ace",
        "colab": {
          "base_uri": "https://localhost:8080/",
          "height": 283
        }
      },
      "source": [
        "print(goog_data)"
      ],
      "execution_count": 155,
      "outputs": [
        {
          "output_type": "stream",
          "text": [
            "                   High          Low  ...      Volume    Adj Close\n",
            "Date                                  ...                         \n",
            "2010-01-04   313.579620   310.954468  ...   3927000.0   312.204773\n",
            "2010-01-05   312.747742   309.609497  ...   6031900.0   310.829926\n",
            "2010-01-06   311.761444   302.047852  ...   7987100.0   302.994293\n",
            "2010-01-07   303.861053   295.218445  ...  12876600.0   295.940735\n",
            "2010-01-08   300.498657   293.455048  ...   9483900.0   299.885956\n",
            "...                 ...          ...  ...         ...          ...\n",
            "2020-05-15  1374.479980  1339.000000  ...   1707700.0  1373.189941\n",
            "2020-05-18  1392.324951  1354.250000  ...   1824000.0  1383.939941\n",
            "2020-05-19  1392.000000  1373.484985  ...   1280600.0  1373.484985\n",
            "2020-05-20  1410.420044  1387.250000  ...   1654200.0  1406.719971\n",
            "2020-05-21  1415.489990  1393.449951  ...    631004.0  1408.349976\n",
            "\n",
            "[2614 rows x 6 columns]\n"
          ],
          "name": "stdout"
        }
      ]
    },
    {
      "cell_type": "code",
      "metadata": {
        "id": "4Jw_C0VUwMSa",
        "colab_type": "code",
        "colab": {
          "base_uri": "https://localhost:8080/",
          "height": 141
        },
        "outputId": "3cadbd5d-eb2e-4ea2-ea54-e68d52d811d1"
      },
      "source": [
        "goog_data_signal = pd.DataFrame(index=goog_data.index)\n",
        "goog_data_signal['price'] = goog_data['Adj Close']\n",
        "goog_data_signal['daily_diferrence'] = goog_data_signal['price'].diff()\n",
        "\n",
        "print(goog_data_signal.head())"
      ],
      "execution_count": 156,
      "outputs": [
        {
          "output_type": "stream",
          "text": [
            "                 price  daily_diferrence\n",
            "Date                                    \n",
            "2010-01-04  312.204773               NaN\n",
            "2010-01-05  310.829926         -1.374847\n",
            "2010-01-06  302.994293         -7.835632\n",
            "2010-01-07  295.940735         -7.053558\n",
            "2010-01-08  299.885956          3.945221\n"
          ],
          "name": "stdout"
        }
      ]
    },
    {
      "cell_type": "code",
      "metadata": {
        "id": "tZrlmM5ux4vc",
        "colab_type": "code",
        "colab": {
          "base_uri": "https://localhost:8080/",
          "height": 141
        },
        "outputId": "66a66bc6-936b-45d3-9cec-9dcf9cbcc45e"
      },
      "source": [
        "import numpy as np\n",
        "\n",
        "goog_data_signal['signal'] = 0.0\n",
        "goog_data_signal['signal'] = np.where(goog_data_signal['daily_diferrence'] > 0, 1.0, 0.0)\n",
        "\n",
        "print(goog_data_signal.head())"
      ],
      "execution_count": 157,
      "outputs": [
        {
          "output_type": "stream",
          "text": [
            "                 price  daily_diferrence  signal\n",
            "Date                                            \n",
            "2010-01-04  312.204773               NaN     0.0\n",
            "2010-01-05  310.829926         -1.374847     0.0\n",
            "2010-01-06  302.994293         -7.835632     0.0\n",
            "2010-01-07  295.940735         -7.053558     0.0\n",
            "2010-01-08  299.885956          3.945221     1.0\n"
          ],
          "name": "stdout"
        }
      ]
    },
    {
      "cell_type": "code",
      "metadata": {
        "id": "E4Eb49eE0FFW",
        "colab_type": "code",
        "colab": {
          "base_uri": "https://localhost:8080/",
          "height": 141
        },
        "outputId": "a1b7711b-479c-4d9b-dc3d-89b8a3267ea4"
      },
      "source": [
        "goog_data_signal['positions'] = goog_data_signal['signal'].diff()\n",
        "print(goog_data_signal.head())"
      ],
      "execution_count": 158,
      "outputs": [
        {
          "output_type": "stream",
          "text": [
            "                 price  daily_diferrence  signal  positions\n",
            "Date                                                       \n",
            "2010-01-04  312.204773               NaN     0.0        NaN\n",
            "2010-01-05  310.829926         -1.374847     0.0        0.0\n",
            "2010-01-06  302.994293         -7.835632     0.0        0.0\n",
            "2010-01-07  295.940735         -7.053558     0.0        0.0\n",
            "2010-01-08  299.885956          3.945221     1.0        1.0\n"
          ],
          "name": "stdout"
        }
      ]
    },
    {
      "cell_type": "code",
      "metadata": {
        "id": "JsHuNF4h0cSl",
        "colab_type": "code",
        "outputId": "a501496b-b936-46c4-9a29-a24a645e2df5",
        "colab": {
          "base_uri": "https://localhost:8080/",
          "height": 282
        }
      },
      "source": [
        "import matplotlib.pyplot as plt\n",
        "\n",
        "fig = plt.figure()\n",
        "ax1 = fig.add_subplot(111, ylabel='Google price in $')\n",
        "#goog_data_signal['price'].plot(ax=ax1, color='r', lw=2.)\n",
        "\n",
        "ax1.plot(goog_data_signal.loc[goog_data_signal.positions==1.0].index, \n",
        "         goog_data_signal.price[goog_data_signal.positions==1.0],'^', markersize=5, color='b')\n",
        "\n",
        "ax1.plot(goog_data_signal.loc[goog_data_signal.positions==-1.0].index, \n",
        "         goog_data_signal.price[goog_data_signal.positions==-1.0],'v', markersize=5, color='m')"
      ],
      "execution_count": 159,
      "outputs": [
        {
          "output_type": "execute_result",
          "data": {
            "text/plain": [
              "[<matplotlib.lines.Line2D at 0x7fcbe31bf5f8>]"
            ]
          },
          "metadata": {
            "tags": []
          },
          "execution_count": 159
        },
        {
          "output_type": "display_data",
          "data": {
            "image/png": "[encoded data removed]",
            "text/plain": [
              "<Figure size 432x288 with 1 Axes>"
            ]
          },
          "metadata": {
            "tags": [],
            "needs_background": "light"
          }
        }
      ]
    }
  ]
}