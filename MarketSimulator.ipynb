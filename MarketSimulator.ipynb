{
  "nbformat": 4,
  "nbformat_minor": 0,
  "metadata": {
    "colab": {
      "name": "MarketSimulator.ipynb",
      "provenance": [],
      "authorship_tag": "ABX9TyPIhpq86+NuuVJoiftN3gIu",
      "include_colab_link": true
    },
    "kernelspec": {
      "name": "python3",
      "display_name": "Python 3"
    }
  },
  "cells": [
    {
      "cell_type": "markdown",
      "metadata": {
        "id": "view-in-github",
        "colab_type": "text"
      },
      "source": [
        "<a href=\"https://colab.research.google.com/github/REICHIYAN/REI/blob/master/MarketSimulator.ipynb\" target=\"_parent\"><img src=\"https://colab.research.google.com/assets/colab-badge.svg\" alt=\"Open In Colab\"/></a>"
      ]
    },
    {
      "cell_type": "code",
      "metadata": {
        "id": "ksyWu-760nxj",
        "colab_type": "code",
        "colab": {}
      },
      "source": [
        "from random import randrange\n",
        "\n",
        "class MarketSimulator:\n",
        "    def __init__(self, om_2_gw=None,gw_2_om=None):\n",
        "        self.orders = []\n",
        "        self.om_2_gw = om_2_gw\n",
        "        self.gw_2_om = gw_2_om\n",
        "    def lookup_orders(self,order):\n",
        "        count=0\n",
        "        for o in self.orders:\n",
        "            if o['id'] ==  order['id']:\n",
        "                return o, count\n",
        "            count+=1\n",
        "        return None, None\n",
        "\n",
        "\n",
        "    def handle_order_from_gw(self):\n",
        "        if self.om_2_gw is not None:\n",
        "            if len(self.om_2_gw)>0:\n",
        "                self.handle_order(self.om_2_gw.popleft())\n",
        "        else:\n",
        "            print('simulation mode')\n",
        "\n",
        "    def fill_all_orders(self,ratio = 100):\n",
        "        orders_to_be_removed = []\n",
        "        for index, order in enumerate(self.orders):\n",
        "            if randrange(100)<=ratio:\n",
        "                order['status'] = 'filled'\n",
        "            else:\n",
        "                order['status'] = 'cancelled'\n",
        "            orders_to_be_removed.append(index)\n",
        "            if self.gw_2_om is not None:\n",
        "                self.gw_2_om.append(order.copy())\n",
        "            else:\n",
        "                print('simulation mode')\n",
        "        for i in sorted(orders_to_be_removed,reverse=True):\n",
        "            del(self.orders[i])\n",
        "\n",
        "    def handle_order(self, order):\n",
        "        o,offset=self.lookup_orders(order)\n",
        "        if o is None:\n",
        "            if order['action'] == 'New':\n",
        "                order['status'] = 'accepted'\n",
        "                self.orders.append(order)\n",
        "                if self.gw_2_om is not None:\n",
        "                    self.gw_2_om.append(order.copy())\n",
        "                    self.fill_all_orders(100)\n",
        "                else:\n",
        "                    print('simulation mode')\n",
        "                return\n",
        "            elif order['action'] == 'Cancel' or order['action'] == 'Amend':\n",
        "                print('Order id - not found - Rejection')\n",
        "                if self.gw_2_om is not None:\n",
        "                    self.gw_2_om.append(order.copy())\n",
        "                else:\n",
        "                    print('simulation mode')\n",
        "                return\n",
        "        elif o is not None:\n",
        "            if order['action'] == 'New':\n",
        "                print('Duplicate order id - Rejection')\n",
        "                return\n",
        "            elif order['action'] == 'Cancel':\n",
        "                o['status']='cancelled'\n",
        "                if self.gw_2_om is not None:\n",
        "                    self.gw_2_om.append(o.copy())\n",
        "                else:\n",
        "                    print('simulation mode')\n",
        "                del (self.orders[offset])\n",
        "                print('Order cancelled')\n",
        "            elif order['action'] == 'Amend':\n",
        "               o['status'] = 'accepted'\n",
        "               if self.gw_2_om is not None:\n",
        "                   self.gw_2_om.append(o.copy())\n",
        "               else:\n",
        "                   print('simulation mode')\n",
        "               print('Order amended')"
      ],
      "execution_count": null,
      "outputs": []
    }
  ]
}